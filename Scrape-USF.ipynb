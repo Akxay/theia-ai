{
 "cells": [
  {
   "cell_type": "code",
   "execution_count": 1,
   "metadata": {
    "collapsed": true
   },
   "outputs": [],
   "source": [
    "from bs4 import BeautifulSoup\n",
    "import urllib.request\n",
    "import re\n",
    "\n",
    "url = 'https://www.usfca.edu/arts-sciences/graduate-programs/data-science/our-students'\n",
    "\n",
    "response= urllib.request.urlopen(url)\n",
    "html = response.read()\n",
    "\n",
    "#images\n",
    "soup = BeautifulSoup(html, \"lxml\")\n",
    "x = []\n",
    "for element in soup.findAll(\"p\"):\n",
    "    x.append(element)\n",
    "\n",
    "headshot_links = []\n",
    "names = []\n",
    "\n",
    "for element in x:\n",
    "    element = str(element).split('src=\"')\n",
    "    if len(element) > 1:\n",
    "        #get the link\n",
    "        element = element[1]\n",
    "        element = element.split(\" title\")\n",
    "        headshot_links.append(element[0][:-1])\n",
    "        \n",
    "        #get the names from the link\n",
    "        element = element[0].split('msan-student-')[1]\n",
    "        element = element.split('.jpg')\n",
    "        names.append(element[0])\n",
    "\n",
    "for i in range(len(headshot_links)):\n",
    "    try:\n",
    "        f = open(str(names[i])+'.jpg','wb')\n",
    "        f.write(urllib.request.urlopen(headshot_links[i]).read())\n",
    "        f.close()\n",
    "    except:\n",
    "        print(\"Unpredictable error:\", headshot_links[i])"
   ]
  },
  {
   "cell_type": "code",
   "execution_count": 115,
   "metadata": {},
   "outputs": [
    {
     "name": "stdout",
     "output_type": "stream",
     "text": [
      "82 82\n"
     ]
    }
   ],
   "source": [
    "print(len(headshot_links),len(names))"
   ]
  }
 ],
 "metadata": {
  "kernelspec": {
   "display_name": "Python 2",
   "language": "python",
   "name": "python2"
  },
  "language_info": {
   "codemirror_mode": {
    "name": "ipython",
    "version": 2
   },
   "file_extension": ".py",
   "mimetype": "text/x-python",
   "name": "python",
   "nbconvert_exporter": "python",
   "pygments_lexer": "ipython2",
   "version": "2.7.13"
  }
 },
 "nbformat": 4,
 "nbformat_minor": 2
}
