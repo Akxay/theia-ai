{
 "cells": [
  {
   "cell_type": "code",
   "execution_count": 11,
   "metadata": {},
   "outputs": [
    {
     "name": "stdout",
     "output_type": "stream",
     "text": [
      "Taking image...\n",
      "camera released, deleting object\n"
     ]
    }
   ],
   "source": [
    "import cv2\n",
    " \n",
    "# Camera 0 is the integrated web cam on my netbook\n",
    "camera_port = 0\n",
    " \n",
    "#Number of frames to throw away while the camera adjusts to light levels\n",
    "ramp_frames = 30\n",
    " \n",
    "# Now we can initialize the camera capture object with the cv2.VideoCapture class.\n",
    "# All it needs is the index to a camera port.\n",
    "camera = cv2.VideoCapture(camera_port)\n",
    " \n",
    "# Captures a single image from the camera and returns it in PIL format\n",
    "def get_image():\n",
    " # read is the easiest way to get a full image out of a VideoCapture object.\n",
    "    retval, im = camera.read()\n",
    "    return im\n",
    " \n",
    "# Ramp the camera - these frames will be discarded and are only used to allow v4l2\n",
    "# to adjust light levels, if necessary\n",
    "for i in xrange(ramp_frames):\n",
    "    temp = get_image()\n",
    "print(\"Taking image...\")\n",
    "# Take the actual image we want to keep\n",
    "for num in range(600):  \n",
    "    camera_capture = get_image()\n",
    "    file = \"/Users/home/MSAN/App_Dev_Project/data_face/akshay.%s.jpg\" % num\n",
    "    # A nice feature of the imwrite method is that it will automatically choose the\n",
    "    # correct format based on the file extension you provide. Convenient!\n",
    "    cv2.imwrite(file, camera_capture)\n",
    "camera.release()\n",
    "# You'll want to release the camera, otherwise you won't be able to create a new\n",
    "# capture object until your script exits\n",
    "print ('camera released, deleting object')\n",
    "del(camera)"
   ]
  },
  {
   "cell_type": "code",
   "execution_count": null,
   "metadata": {
    "collapsed": true
   },
   "outputs": [],
   "source": []
  }
 ],
 "metadata": {
  "kernelspec": {
   "display_name": "Python 2",
   "language": "python",
   "name": "python2"
  },
  "language_info": {
   "codemirror_mode": {
    "name": "ipython",
    "version": 2
   },
   "file_extension": ".py",
   "mimetype": "text/x-python",
   "name": "python",
   "nbconvert_exporter": "python",
   "pygments_lexer": "ipython2",
   "version": "2.7.14"
  },
  "varInspector": {
   "cols": {
    "lenName": 16,
    "lenType": 16,
    "lenVar": 40
   },
   "kernels_config": {
    "python": {
     "delete_cmd_postfix": "",
     "delete_cmd_prefix": "del ",
     "library": "var_list.py",
     "varRefreshCmd": "print(var_dic_list())"
    },
    "r": {
     "delete_cmd_postfix": ") ",
     "delete_cmd_prefix": "rm(",
     "library": "var_list.r",
     "varRefreshCmd": "cat(var_dic_list()) "
    }
   },
   "types_to_exclude": [
    "module",
    "function",
    "builtin_function_or_method",
    "instance",
    "_Feature"
   ],
   "window_display": false
  }
 },
 "nbformat": 4,
 "nbformat_minor": 2
}
