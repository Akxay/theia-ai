{
 "cells": [
  {
   "cell_type": "code",
   "execution_count": 75,
   "metadata": {
    "collapsed": true
   },
   "outputs": [],
   "source": [
    "from flask import Flask, render_template\n",
    "import psycopg2\n",
    "app = Flask(__name__)"
   ]
  },
  {
   "cell_type": "code",
   "execution_count": 76,
   "metadata": {},
   "outputs": [],
   "source": [
    "def table_ops(conn, schema, table):\n",
    "    cur = conn.cursor()\n",
    "    cur.execute(\"select * from %s.%s ;\" % (schema, table))\n",
    "    rows = cur.fetchall()\n",
    "    conn.close()\n",
    "    print \"---done---\"\n",
    "    return rows"
   ]
  },
  {
   "cell_type": "code",
   "execution_count": 77,
   "metadata": {
    "collapsed": true
   },
   "outputs": [],
   "source": [
    "def connect_db():\n",
    "    try:\n",
    "        conn = psycopg2.connect(\"dbname='postgres' user='akshayt' host='ec2-54-212-196-78.us-west-2.compute.amazonaws.com' port='5432' password='Theia628'\")\n",
    "    except:\n",
    "        print \"I am unable to connect to the database\"\n",
    "\n",
    "    print \"--connected---\"\n",
    "    return conn"
   ]
  },
  {
   "cell_type": "code",
   "execution_count": 78,
   "metadata": {
    "scrolled": true
   },
   "outputs": [],
   "source": [
    "@app.route(\"/\")\n",
    "def main():\n",
    "    return render_template('index.html')"
   ]
  },
  {
   "cell_type": "code",
   "execution_count": 79,
   "metadata": {},
   "outputs": [],
   "source": [
    "@app.route(\"/blog-single.html\")\n",
    "def display_data():\n",
    "    conn = connect_db()\n",
    "    table = table_ops(conn, 'attendance', 'test_table')\n",
    "    return render_template('blog-single.html', table=table)"
   ]
  },
  {
   "cell_type": "code",
   "execution_count": 80,
   "metadata": {
    "scrolled": true
   },
   "outputs": [
    {
     "name": "stderr",
     "output_type": "stream",
     "text": [
      " * Running on http://127.0.0.1:5000/ (Press CTRL+C to quit)\n",
      "127.0.0.1 - - [27/Mar/2018 19:05:51] \"\u001b[33mGET /static/fonts/fontawesome-webfont.woff2?v=4.7.0 HTTP/1.1\u001b[0m\" 404 -\n",
      "127.0.0.1 - - [27/Mar/2018 19:05:51] \"\u001b[33mGET /static/fonts/fontawesome-webfont.woff?v=4.7.0 HTTP/1.1\u001b[0m\" 404 -\n",
      "127.0.0.1 - - [27/Mar/2018 19:05:51] \"\u001b[33mGET /static/fonts/fontawesome-webfont.ttf?v=4.7.0 HTTP/1.1\u001b[0m\" 404 -\n",
      "127.0.0.1 - - [27/Mar/2018 19:05:51] \"\u001b[33mGET /static/fonts/fontawesome-webfont.svg?v=4.7.0 HTTP/1.1\u001b[0m\" 404 -\n",
      "127.0.0.1 - - [27/Mar/2018 19:05:51] \"\u001b[37mGET / HTTP/1.1\u001b[0m\" 200 -\n",
      "127.0.0.1 - - [27/Mar/2018 19:05:54] \"\u001b[37mGET /blog-single.html HTTP/1.1\u001b[0m\" 200 -\n",
      "127.0.0.1 - - [27/Mar/2018 19:05:54] \"\u001b[33mGET /static/img/perso.jpg HTTP/1.1\u001b[0m\" 404 -\n",
      "127.0.0.1 - - [27/Mar/2018 19:05:54] \"\u001b[33mGET /static/fonts/fontawesome-webfont.woff2?v=4.7.0 HTTP/1.1\u001b[0m\" 404 -\n",
      "127.0.0.1 - - [27/Mar/2018 19:05:54] \"\u001b[33mGET /static/fonts/fontawesome-webfont.woff?v=4.7.0 HTTP/1.1\u001b[0m\" 404 -\n",
      "127.0.0.1 - - [27/Mar/2018 19:05:55] \"\u001b[33mGET /static/fonts/fontawesome-webfont.ttf?v=4.7.0 HTTP/1.1\u001b[0m\" 404 -\n",
      "127.0.0.1 - - [27/Mar/2018 19:05:55] \"\u001b[33mGET /static/fonts/fontawesome-webfont.svg?v=4.7.0 HTTP/1.1\u001b[0m\" 404 -\n"
     ]
    },
    {
     "name": "stdout",
     "output_type": "stream",
     "text": [
      "--connected---\n",
      "---done---\n"
     ]
    }
   ],
   "source": [
    "if __name__ == \"__main__\":\n",
    "    app.run()"
   ]
  },
  {
   "cell_type": "code",
   "execution_count": null,
   "metadata": {
    "collapsed": true
   },
   "outputs": [],
   "source": [
    ""
   ]
  }
 ],
 "metadata": {
  "kernelspec": {
   "display_name": "Python 2",
   "language": "python",
   "name": "python2"
  },
  "language_info": {
   "codemirror_mode": {
    "name": "ipython",
    "version": 2.0
   },
   "file_extension": ".py",
   "mimetype": "text/x-python",
   "name": "python",
   "nbconvert_exporter": "python",
   "pygments_lexer": "ipython2",
   "version": "2.7.14"
  },
  "varInspector": {
   "cols": {
    "lenName": 16.0,
    "lenType": 16.0,
    "lenVar": 40.0
   },
   "kernels_config": {
    "python": {
     "delete_cmd_postfix": "",
     "delete_cmd_prefix": "del ",
     "library": "var_list.py",
     "varRefreshCmd": "print(var_dic_list())"
    },
    "r": {
     "delete_cmd_postfix": ") ",
     "delete_cmd_prefix": "rm(",
     "library": "var_list.r",
     "varRefreshCmd": "cat(var_dic_list()) "
    }
   },
   "types_to_exclude": [
    "module",
    "function",
    "builtin_function_or_method",
    "instance",
    "_Feature"
   ],
   "window_display": false
  }
 },
 "nbformat": 4,
 "nbformat_minor": 0
}